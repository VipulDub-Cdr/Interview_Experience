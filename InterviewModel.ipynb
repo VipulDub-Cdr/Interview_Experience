{
 "cells": [
  {
   "cell_type": "code",
   "execution_count": null,
   "id": "0bb40918-1cfb-4d32-853e-17480265543c",
   "metadata": {
    "scrolled": true
   },
   "outputs": [
    {
     "name": "stdout",
     "output_type": "stream",
     "text": [
      "* Running on local URL:  http://127.0.0.1:7864\n",
      "* To create a public link, set `share=True` in `launch()`.\n"
     ]
    },
    {
     "data": {
      "text/html": [
       "<div><iframe src=\"http://127.0.0.1:7864/\" width=\"100%\" height=\"500\" allow=\"autoplay; camera; microphone; clipboard-read; clipboard-write;\" frameborder=\"0\" allowfullscreen></iframe></div>"
      ],
      "text/plain": [
       "<IPython.core.display.HTML object>"
      ]
     },
     "metadata": {},
     "output_type": "display_data"
    },
    {
     "data": {
      "text/plain": []
     },
     "execution_count": 6,
     "metadata": {},
     "output_type": "execute_result"
    }
   ],
   "source": [
    "import gradio as gr\n",
    "import google.generativeai as genai\n",
    "from gtts import gTTS\n",
    "import tempfile\n",
    "\n",
    "\n",
    "genai.configure(api_key=\"API_KEY\")\n",
    "model = genai.GenerativeModel('gemini-1.5-flash')\n",
    "\n",
    "\n",
    "interview_state = {\n",
    "    \"questions\": [],\n",
    "    \"answers\": [],\n",
    "    \"current_question\": \"\",\n",
    "    \"question_index\": 0\n",
    "}\n",
    "\n",
    "def start_interview(skills_text):\n",
    "    interview_state[\"questions\"] = []\n",
    "    interview_state[\"answers\"] = []\n",
    "    interview_state[\"question_index\"] = 0\n",
    "\n",
    "    prompt = (\n",
    "    f\"You are an AI interviewer. Based on these skills: {skills_text}, generate exactly 5 interview questions.\\n\"\n",
    "    \"Respond ONLY with the questions, each question on its own line.\\n\"\n",
    "    \"Do NOT add any introduction, numbering, or extra text.\"\n",
    "    )\n",
    "\n",
    "    response = model.generate_content(prompt)\n",
    "    questions = response.text.strip().split('\\n')\n",
    "    interview_state[\"questions\"] = [q for q in questions if q.strip() != '']\n",
    "    \n",
    "    interview_state[\"current_question\"] = interview_state[\"questions\"][0]\n",
    "    return f\"First Question: {interview_state['current_question']}\"\n",
    "\n",
    "def next_question(user_answer):\n",
    "    interview_state[\"answers\"].append(user_answer)\n",
    "    interview_state[\"question_index\"] += 1\n",
    "    \n",
    "    if interview_state[\"question_index\"] < len(interview_state[\"questions\"]):\n",
    "        interview_state[\"current_question\"] = interview_state[\"questions\"][interview_state[\"question_index\"]]\n",
    "        return f\"Next Question: {interview_state['current_question']}\"\n",
    "    else:\n",
    "        return \"Interview complete. Click 'Get Feedback'!\"\n",
    "\n",
    "def get_feedback():\n",
    "    qa_pairs = \"\\n\".join([f\"Q: {q}\\nA: {a}\" for q, a in zip(interview_state[\"questions\"], interview_state[\"answers\"])])\n",
    "    prompt = f\"You are an AI interviewer. Here is the interview:\\n{qa_pairs}\\nGive feedback about mistakes and final result in simple terms.\"\n",
    "    \n",
    "    response = model.generate_content(prompt)\n",
    "    feedback_text = response.text.strip()\n",
    "    \n",
    "    \n",
    "    tts = gTTS(text=feedback_text)\n",
    "    temp_audio = tempfile.NamedTemporaryFile(delete=False, suffix='.mp3')\n",
    "    tts.save(temp_audio.name)\n",
    "    \n",
    "    return feedback_text, temp_audio.name\n",
    "\n",
    "\n",
    "with gr.Blocks() as demo:\n",
    "    gr.Markdown(\"## AI Interviewer (Skills-based)\")\n",
    "    \n",
    "    skills_input = gr.Textbox(label=\"Enter your skills\")\n",
    "    start_btn = gr.Button(\"Start Interview\")\n",
    "    question_output = gr.Textbox(label=\"Interview Question\")\n",
    "    \n",
    "    answer_input = gr.Textbox(label=\"Your Answer\")\n",
    "    next_btn = gr.Button(\"Next Question\")\n",
    "    \n",
    "    feedback_btn = gr.Button(\"Get Feedback & Speech\")\n",
    "    feedback_output = gr.Textbox(label=\"Feedback\")\n",
    "    audio_output = gr.Audio(label=\"Feedback Audio\")\n",
    "    \n",
    "    \n",
    "    start_btn.click(start_interview, inputs=skills_input, outputs=question_output)\n",
    "    next_btn.click(next_question, inputs=answer_input, outputs=question_output)\n",
    "    feedback_btn.click(get_feedback, inputs=[], outputs=[feedback_output, audio_output])\n",
    "\n",
    "\n",
    "demo.launch()\n"
   ]
  }
 ],
 "metadata": {
  "kernelspec": {
   "display_name": "Python 3 (ipykernel)",
   "language": "python",
   "name": "python3"
  },
  "language_info": {
   "codemirror_mode": {
    "name": "ipython",
    "version": 3
   },
   "file_extension": ".py",
   "mimetype": "text/x-python",
   "name": "python",
   "nbconvert_exporter": "python",
   "pygments_lexer": "ipython3",
   "version": "3.12.7"
  }
 },
 "nbformat": 4,
 "nbformat_minor": 5
}
